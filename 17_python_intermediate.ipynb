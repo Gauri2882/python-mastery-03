{
  "nbformat": 4,
  "nbformat_minor": 0,
  "metadata": {
    "colab": {
      "provenance": []
    },
    "kernelspec": {
      "name": "python3",
      "display_name": "Python 3"
    },
    "language_info": {
      "name": "python"
    }
  },
  "cells": [
    {
      "cell_type": "markdown",
      "source": [
        "# Writing Files\n",
        "\n",
        "*   Writing to files(w mode)\n",
        "*   Appending to files(a mode)\n",
        "*   Handling file writing errors\n"
      ],
      "metadata": {
        "id": "4Yx7w8AbIHc4"
      }
    },
    {
      "cell_type": "code",
      "source": [
        "# Writing to files(w mode)\n",
        "\n",
        "with open(\"journal.txt\", \"w\") as file:\n",
        "  file.write(\"Day 1: I am writing to a file\")"
      ],
      "metadata": {
        "id": "wFxTT2XRwtmU"
      },
      "execution_count": 10,
      "outputs": []
    },
    {
      "cell_type": "code",
      "source": [
        "# Appending to files(a mode)\n",
        "\n",
        "with open(\"journal.txt\", \"a\") as file:\n",
        "  file.write(\"Day 2: I built a program!\\n\")"
      ],
      "metadata": {
        "id": "ORW5pZVxxF3s"
      },
      "execution_count": 11,
      "outputs": []
    },
    {
      "cell_type": "code",
      "source": [
        "# Handling file writing errors\n",
        "\n",
        "try:\n",
        "  with open(\"restricted/journal.txt\", \"w\") as file:\n",
        "    file.write(\"Test Entry\\n\")\n",
        "\n",
        "except PermissionError:\n",
        "  print(\"You do not have permission to write to the file\")"
      ],
      "metadata": {
        "id": "PYkJrINuxWRU"
      },
      "execution_count": 13,
      "outputs": []
    },
    {
      "cell_type": "markdown",
      "source": [
        "# Project: Daily Journal Logger"
      ],
      "metadata": {
        "id": "sE48qwwdvGeH"
      }
    },
    {
      "cell_type": "code",
      "source": [
        "# step 1: define journal file\n",
        "JOURNAL_FILE = 'daily_journal.txt'\n",
        "\n",
        "# step 2: add a new entry\n",
        "def add_entry():\n",
        "  entry = input(\"Enter your entry: \")\n",
        "  with open(JOURNAL_FILE, 'a') as file:\n",
        "    file.write(entry + '\\n')\n",
        "  print(\"Entry added successfully!\")\n",
        "\n",
        "# step 3: View all entries\n",
        "def view_entries():\n",
        "  try:\n",
        "    with open(JOURNAL_FILE, 'r') as file:\n",
        "      entries = file.readlines()\n",
        "      if entries:\n",
        "        print(\"---- Entries ----\")\n",
        "        print(entries)\n",
        "      else:\n",
        "        print(\"No entries found. Start writing today.\")\n",
        "  except FileNotFoundError:\n",
        "    print(\"No entries found.\")\n",
        "\n",
        "# step 4: search entries by keyword\n",
        "def search_entries():\n",
        "  keyword = input(\"Enter a keyword to search for: \").lower()\n",
        "  try:\n",
        "    with open(JOURNAL_FILE, 'r') as file:\n",
        "      entries = file.readlines()\n",
        "      found = False\n",
        "      print(\"---- Search Results ----\")\n",
        "      for entry in entries:\n",
        "        if keyword in entry.lower():\n",
        "          print(entry)\n",
        "          found = True\n",
        "      if not found:\n",
        "        print(\"No entries found.\")\n",
        "  except FileNotFoundError:\n",
        "    print(\"No entries found. Add an entry first!\")\n",
        "\n",
        "# step 5: Display Menu\n",
        "def display_menu():\n",
        "  print(\"\\n----- Daily Journal Logger -----\")\n",
        "  print(\"1. Add Entry\")\n",
        "  print(\"2. View Entries\")\n",
        "  print(\"3. Search Entries\")\n",
        "  print(\"4. Quit\")\n",
        "\n",
        "# step 6: main loop\n",
        "while True:\n",
        "  display_menu()\n",
        "  choice = input(\"Enter your choice(1-4): \").strip()\n",
        "  if choice == '1':\n",
        "    add_entry()\n",
        "  elif choice == '2':\n",
        "    view_entries()\n",
        "  elif choice == '3':\n",
        "    search_entries()\n",
        "  elif choice == '4':\n",
        "    print(\"Goodbye!\")\n",
        "    break\n",
        "  else:\n",
        "    print(\"Invalid choice. Please try again.\")"
      ],
      "metadata": {
        "colab": {
          "base_uri": "https://localhost:8080/"
        },
        "id": "qN5L16R9yDO5",
        "outputId": "4c36b9dc-2d82-436c-e3e8-caa82fc153d7"
      },
      "execution_count": 17,
      "outputs": [
        {
          "output_type": "stream",
          "name": "stdout",
          "text": [
            "\n",
            "----- Daily Journal Logger -----\n",
            "1. Add Entry\n",
            "2. View Entries\n",
            "3. Search Entries\n",
            "4. Quit\n",
            "Enter your choice(1-4): 2\n",
            "No entries found.\n",
            "\n",
            "----- Daily Journal Logger -----\n",
            "1. Add Entry\n",
            "2. View Entries\n",
            "3. Search Entries\n",
            "4. Quit\n",
            "Enter your choice(1-4): 1\n",
            "Enter your entry: Day1: Good day\n",
            "Entry added successfully!\n",
            "\n",
            "----- Daily Journal Logger -----\n",
            "1. Add Entry\n",
            "2. View Entries\n",
            "3. Search Entries\n",
            "4. Quit\n",
            "Enter your choice(1-4): 2\n",
            "---- Entries ----\n",
            "['Day1: Good day\\n']\n",
            "\n",
            "----- Daily Journal Logger -----\n",
            "1. Add Entry\n",
            "2. View Entries\n",
            "3. Search Entries\n",
            "4. Quit\n",
            "Enter your choice(1-4): 3\n",
            "Enter a keyword to search for: Day1\n",
            "---- Search Results ----\n",
            "Day1: Good day\n",
            "\n",
            "\n",
            "----- Daily Journal Logger -----\n",
            "1. Add Entry\n",
            "2. View Entries\n",
            "3. Search Entries\n",
            "4. Quit\n",
            "Enter your choice(1-4): 4\n",
            "Goodbye!\n"
          ]
        }
      ]
    }
  ]
}