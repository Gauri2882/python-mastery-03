{
  "nbformat": 4,
  "nbformat_minor": 0,
  "metadata": {
    "colab": {
      "provenance": []
    },
    "kernelspec": {
      "name": "python3",
      "display_name": "Python 3"
    },
    "language_info": {
      "name": "python"
    }
  },
  "cells": [
    {
      "cell_type": "markdown",
      "source": [
        "# API Basics\n",
        "*   Using API Keys\n",
        "*   Fetching data from API using requests\n",
        "*   Modifying JSON data\n"
      ],
      "metadata": {
        "id": "4Yx7w8AbIHc4"
      }
    },
    {
      "cell_type": "code",
      "source": [
        "!pip install requests"
      ],
      "metadata": {
        "colab": {
          "base_uri": "https://localhost:8080/"
        },
        "id": "OR0Ru2iTc2iy",
        "outputId": "c92c02d4-9c93-4390-d2cf-a458cd07d4ae"
      },
      "execution_count": null,
      "outputs": [
        {
          "output_type": "stream",
          "name": "stdout",
          "text": [
            "Requirement already satisfied: requests in /usr/local/lib/python3.11/dist-packages (2.32.3)\n",
            "Requirement already satisfied: charset-normalizer<4,>=2 in /usr/local/lib/python3.11/dist-packages (from requests) (3.4.2)\n",
            "Requirement already satisfied: idna<4,>=2.5 in /usr/local/lib/python3.11/dist-packages (from requests) (3.10)\n",
            "Requirement already satisfied: urllib3<3,>=1.21.1 in /usr/local/lib/python3.11/dist-packages (from requests) (2.4.0)\n",
            "Requirement already satisfied: certifi>=2017.4.17 in /usr/local/lib/python3.11/dist-packages (from requests) (2025.7.14)\n"
          ]
        }
      ]
    },
    {
      "cell_type": "code",
      "source": [
        "import requests\n",
        "\n",
        "API_KEY = \"your_api_key\" #replace your_api_key with your API\n",
        "city = \"Mumbai\"\n",
        "url = f\"https://api.openweathermap.org/data/2.5/weather?q={city}&appid={API_KEY}\"\n",
        "\n",
        "response = requests.get(url)\n",
        "\n",
        "if response.status_code == 200:\n",
        "  weather_data = response.json()\n",
        "  print(weather_data)\n",
        "\n",
        "else:\n",
        "  print(\"Error\", response.status_code)"
      ],
      "metadata": {
        "colab": {
          "base_uri": "https://localhost:8080/"
        },
        "id": "1q7L1IXSbrqs",
        "outputId": "8f76ffe7-d397-45a0-d9e6-c799142f0f75"
      },
      "execution_count": 10,
      "outputs": [
        {
          "output_type": "stream",
          "name": "stdout",
          "text": [
            "{'coord': {'lon': 72.8479, 'lat': 19.0144}, 'weather': [{'id': 721, 'main': 'Haze', 'description': 'haze', 'icon': '50n'}], 'base': 'stations', 'main': {'temp': 302.14, 'feels_like': 307.65, 'temp_min': 302.14, 'temp_max': 302.14, 'pressure': 1006, 'humidity': 79, 'sea_level': 1006, 'grnd_level': 1005}, 'visibility': 3000, 'wind': {'speed': 4.63, 'deg': 250}, 'clouds': {'all': 75}, 'dt': 1752859702, 'sys': {'type': 1, 'id': 9052, 'country': 'IN', 'sunrise': 1752799222, 'sunset': 1752846533}, 'timezone': 19800, 'id': 1275339, 'name': 'Mumbai', 'cod': 200}\n"
          ]
        }
      ]
    },
    {
      "cell_type": "markdown",
      "source": [
        "# Project: Weather App using API"
      ],
      "metadata": {
        "id": "XXB4igGNJn2_"
      }
    },
    {
      "cell_type": "code",
      "source": [
        "import requests\n",
        "\n",
        "# step 1: API set up\n",
        "API_KEY = \"your_api_key\" # replace your_api_key with your API\n",
        "BASE_URL = f\"https://api.openweathermap.org/data/2.5/weather\"\n",
        "\n",
        "# step 2: get weather data\n",
        "def get_weather(city):\n",
        "  try:\n",
        "    url = f\"{BASE_URL}?q={city}&appid={API_KEY}&units=metric\"\n",
        "    response = requests.get(url)\n",
        "    if response.status_code == 200:\n",
        "      data = response.json()\n",
        "      weather = {\n",
        "          \"City\": data[\"name\"],\n",
        "          \"Temperature\": f'{data[\"main\"][\"temp\"]}C',\n",
        "          \"Description\": data[\"weather\"][0][\"description\"].title(),\n",
        "          \"Humidity\": f'{data[\"main\"][\"humidity\"]}%',\n",
        "          \"Wind Speed\": f'{data[\"wind\"][\"speed\"]}m/s'\n",
        "      }\n",
        "      return weather\n",
        "    elif response.status_code == 404:\n",
        "      print(\"City not found.\")\n",
        "    else:\n",
        "      print(\"An error occured. Status code:\", response.status_code)\n",
        "  except Exception as e:\n",
        "    print(\"An error occured:\", e)\n",
        "  return None\n",
        "\n",
        "# step 3: display weather information\n",
        "def display_weather(weather):\n",
        "  print(\"\\n---- Weather Information ----\")\n",
        "  for key, value in weather.items():\n",
        "    print(f\"{key}: {value}\")\n",
        "\n",
        "# step 4: Main program loop\n",
        "while True:\n",
        "  print(\"\\n---- Weather App ----\")\n",
        "  city = input(\"Enter a city name (or 'q' to quit): \")\n",
        "  if city.lower() == 'q':\n",
        "    break\n",
        "  weather = get_weather(city)\n",
        "  if weather:\n",
        "    display_weather(weather)"
      ],
      "metadata": {
        "colab": {
          "base_uri": "https://localhost:8080/"
        },
        "id": "qXsbLxL7goph",
        "outputId": "8f7599f6-374a-4360-d0cd-44db25cb3736"
      },
      "execution_count": 8,
      "outputs": [
        {
          "name": "stdout",
          "output_type": "stream",
          "text": [
            "\n",
            "---- Weather App ----\n",
            "Enter a city name (or 'q' to quit): Nashik\n",
            "\n",
            "---- Weather Information ----\n",
            "City: Nashik\n",
            "Temperature: 23.87C\n",
            "Description: Overcast Clouds\n",
            "Humidity: 83%\n",
            "Wind Speed: 4.02m/s\n",
            "\n",
            "---- Weather App ----\n",
            "Enter a city name (or 'q' to quit): Pune\n",
            "\n",
            "---- Weather Information ----\n",
            "City: Pune\n",
            "Temperature: 25.05C\n",
            "Description: Overcast Clouds\n",
            "Humidity: 80%\n",
            "Wind Speed: 3.17m/s\n",
            "\n",
            "---- Weather App ----\n",
            "Enter a city name (or 'q' to quit): Mumbai\n",
            "\n",
            "---- Weather Information ----\n",
            "City: Mumbai\n",
            "Temperature: 28.99C\n",
            "Description: Haze\n",
            "Humidity: 79%\n",
            "Wind Speed: 4.63m/s\n",
            "\n",
            "---- Weather App ----\n",
            "Enter a city name (or 'q' to quit): Phichit\n",
            "\n",
            "---- Weather Information ----\n",
            "City: Phichit\n",
            "Temperature: 27.78C\n",
            "Description: Overcast Clouds\n",
            "Humidity: 99%\n",
            "Wind Speed: 2.17m/s\n",
            "\n",
            "---- Weather App ----\n",
            "Enter a city name (or 'q' to quit): q\n"
          ]
        }
      ]
    }
  ]
}