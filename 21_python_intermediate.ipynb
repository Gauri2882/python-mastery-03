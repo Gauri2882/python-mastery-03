{
  "nbformat": 4,
  "nbformat_minor": 0,
  "metadata": {
    "colab": {
      "provenance": []
    },
    "kernelspec": {
      "name": "python3",
      "display_name": "Python 3"
    },
    "language_info": {
      "name": "python"
    }
  },
  "cells": [
    {
      "cell_type": "markdown",
      "source": [
        "# Date & Time\n",
        "*   working with dates and times\n",
        "*   Formatting dates and times\n",
        "*   calculating time differences\n"
      ],
      "metadata": {
        "id": "4Yx7w8AbIHc4"
      }
    },
    {
      "cell_type": "code",
      "source": [
        "from datetime import datetime\n",
        "\n",
        "current_time = datetime.now()\n",
        "print(f\"current date and time is {current_time}\")"
      ],
      "metadata": {
        "colab": {
          "base_uri": "https://localhost:8080/"
        },
        "id": "XP0ydRyomQvT",
        "outputId": "c90a7600-44f4-419e-eba3-4d168ba55cf3"
      },
      "execution_count": 11,
      "outputs": [
        {
          "output_type": "stream",
          "name": "stdout",
          "text": [
            "current date and time is 2025-07-18 17:36:26.263644\n"
          ]
        }
      ]
    },
    {
      "cell_type": "code",
      "source": [
        "from datetime import datetime\n",
        "\n",
        "event_date = datetime(2025, 12, 25, 9, 0, 0)\n",
        "print(f\"event date is {event_date}\")"
      ],
      "metadata": {
        "colab": {
          "base_uri": "https://localhost:8080/"
        },
        "id": "dJNJ_z3mnJ68",
        "outputId": "b3a47c79-6e3e-40c8-949b-916cad0c5811"
      },
      "execution_count": 13,
      "outputs": [
        {
          "output_type": "stream",
          "name": "stdout",
          "text": [
            "event date is 2025-12-25 09:00:00\n"
          ]
        }
      ]
    },
    {
      "cell_type": "code",
      "source": [
        "from datetime import datetime\n",
        "\n",
        "current_time = datetime.now()\n",
        "formatted_time = current_time.strftime(\"%d-%m-%Y %H:%M:%S\")\n",
        "print(f\"current date and time is {formatted_time}\")"
      ],
      "metadata": {
        "colab": {
          "base_uri": "https://localhost:8080/"
        },
        "id": "KWzyvihQnfnj",
        "outputId": "33b4cf57-f6b5-47bb-b2d5-a96401906e5b"
      },
      "execution_count": 14,
      "outputs": [
        {
          "output_type": "stream",
          "name": "stdout",
          "text": [
            "current date and time is 18-07-2025 17:40:24\n"
          ]
        }
      ]
    },
    {
      "cell_type": "code",
      "source": [
        "from datetime import datetime\n",
        "\n",
        "event_date = datetime(2025, 12, 25)\n",
        "current_date = datetime.now()\n",
        "time_difference = event_date - current_date\n",
        "print(f\"Day remaining is {time_difference.days}\")"
      ],
      "metadata": {
        "colab": {
          "base_uri": "https://localhost:8080/"
        },
        "id": "htt-uYjUn9QZ",
        "outputId": "741bde63-213e-429b-e630-2b3c90fc794a"
      },
      "execution_count": 15,
      "outputs": [
        {
          "output_type": "stream",
          "name": "stdout",
          "text": [
            "time difference is 159\n"
          ]
        }
      ]
    },
    {
      "cell_type": "markdown",
      "source": [
        "# Project: Event Countdown Timer"
      ],
      "metadata": {
        "id": "gS4qHo5smRIJ"
      }
    },
    {
      "cell_type": "code",
      "source": [
        "from datetime import datetime, timedelta\n",
        "import time\n",
        "\n",
        "# Step 1: Get event date and time from user\n",
        "def get_event_datetime():\n",
        "    try:\n",
        "        date_input = input(\"Enter event date and time (YYYY-MM-DD HH:MM:SS): \")\n",
        "        return datetime.strptime(date_input, \"%Y-%m-%d %H:%M:%S\")\n",
        "    except ValueError as e:\n",
        "        print(f\"Invalid date format. Error: {e}\")\n",
        "        return None\n",
        "\n",
        "# Step 2: Calculate time remaining\n",
        "def calculate_time_remaining(event_datetime):\n",
        "    current_datetime = datetime.now()\n",
        "    return event_datetime - current_datetime\n",
        "\n",
        "# Step 3: Display countdown\n",
        "def display_countdown(time_left):\n",
        "    days = time_left.days\n",
        "    hours, remainder = divmod(time_left.seconds, 3600)\n",
        "    minutes, seconds = divmod(remainder, 60)\n",
        "    print(f\"\\rTime remaining: {days} days, {hours} hours, {minutes} minutes, {seconds} seconds\", end=\"\")\n",
        "\n",
        "# Step 4: Main countdown loop\n",
        "def start_countdown(event_date):\n",
        "    while True:\n",
        "        time_left = calculate_time_remaining(event_date)\n",
        "        if time_left.total_seconds() <= 0:\n",
        "            print(\"\\nEvent has already happened or is happening now!\")\n",
        "            break\n",
        "        display_countdown(time_left)\n",
        "        time.sleep(1)\n",
        "\n",
        "# Main program\n",
        "print(\"Current time:\", datetime.now())\n",
        "event_date = get_event_datetime()\n",
        "\n",
        "if event_date:\n",
        "    print(f\"Event set for: {event_date}\")\n",
        "    start_countdown(event_date)\n"
      ],
      "metadata": {
        "colab": {
          "base_uri": "https://localhost:8080/"
        },
        "id": "BHmL6KHMpqF4",
        "outputId": "369bb497-97a3-416d-99b6-274a8e170075"
      },
      "execution_count": 5,
      "outputs": [
        {
          "output_type": "stream",
          "name": "stdout",
          "text": [
            "Current time: 2025-07-18 18:00:36.160755\n",
            "Enter event date and time (YYYY-MM-DD HH:MM:SS): 2025-07-18 18:01:58\n",
            "Event set for: 2025-07-18 18:01:58\n",
            "Time remaining: 0 days, 0 hours, 0 minutes, 0 seconds\n",
            "Event has already happened or is happening now!\n"
          ]
        }
      ]
    }
  ]
}