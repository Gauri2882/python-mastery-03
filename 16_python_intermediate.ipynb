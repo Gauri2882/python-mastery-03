{
  "nbformat": 4,
  "nbformat_minor": 0,
  "metadata": {
    "colab": {
      "provenance": []
    },
    "kernelspec": {
      "name": "python3",
      "display_name": "Python 3"
    },
    "language_info": {
      "name": "python"
    }
  },
  "cells": [
    {
      "cell_type": "markdown",
      "source": [
        "# Reading Files\n",
        "\n",
        "*   Reading Files using open()\n",
        "*   Reading modes (r, rb, r+)\n",
        "*   Handling file reading errors\n"
      ],
      "metadata": {
        "id": "4Yx7w8AbIHc4"
      }
    },
    {
      "cell_type": "code",
      "source": [
        "#Reading Files using open()\n",
        "#Reading modes (r, rb, r+)\n",
        "\n",
        "with open(\"sample.txt\", \"r\") as file:\n",
        "  content = file.read()\n",
        "  print(content)"
      ],
      "metadata": {
        "colab": {
          "base_uri": "https://localhost:8080/"
        },
        "id": "rcQn4XXOjyAp",
        "outputId": "1c8be504-6191-4c71-cdb8-c0b9d41b7b28"
      },
      "execution_count": 1,
      "outputs": [
        {
          "output_type": "stream",
          "name": "stdout",
          "text": [
            "Recipe: Pancakes\n",
            "Ingredients: Flour, Milk, Eggs, Sugar\n",
            "Instructions: Mix and fry\n"
          ]
        }
      ]
    },
    {
      "cell_type": "code",
      "source": [
        "\"\"\"\n",
        "r = reading file\n",
        "rb = reading binary file\n",
        "r+ = read and write the file\n",
        "\"\"\"\n",
        "\n",
        "with open(\"sample.txt\", \"r\") as file:\n",
        "  for line in file:\n",
        "    print(line.strip())"
      ],
      "metadata": {
        "colab": {
          "base_uri": "https://localhost:8080/"
        },
        "id": "4uXwCHiglQcY",
        "outputId": "0600e2e1-e66b-4db2-bb6c-a6c02073927c"
      },
      "execution_count": 2,
      "outputs": [
        {
          "output_type": "stream",
          "name": "stdout",
          "text": [
            "Recipe: Pancakes\n",
            "Ingredients: Flour, Milk, Eggs, Sugar\n",
            "Instructions: Mix and fry\n"
          ]
        }
      ]
    },
    {
      "cell_type": "code",
      "source": [
        "# Handling file reading errors\n",
        "try:\n",
        "  with open(\"non_existing_file.txt\", \"r\") as file:\n",
        "    content = file.read()\n",
        "    print(content)\n",
        "except FileNotFoundError:\n",
        "  print(\"File not found\")"
      ],
      "metadata": {
        "colab": {
          "base_uri": "https://localhost:8080/"
        },
        "id": "wkORq7DmlqM3",
        "outputId": "3284ffc2-5012-4fb2-bb81-94e119602424"
      },
      "execution_count": 3,
      "outputs": [
        {
          "output_type": "stream",
          "name": "stdout",
          "text": [
            "File not found\n"
          ]
        }
      ]
    },
    {
      "cell_type": "code",
      "source": [
        "try:\n",
        "  with open(\"sample.txt\", \"r\") as file:\n",
        "    content = file.read()\n",
        "    print(content)\n",
        "except FileNotFoundError:\n",
        "  print(\"File not found\")"
      ],
      "metadata": {
        "colab": {
          "base_uri": "https://localhost:8080/"
        },
        "id": "aA6GNYyImU5N",
        "outputId": "87b12167-45b6-4cf4-a124-3a245e38cf75"
      },
      "execution_count": 4,
      "outputs": [
        {
          "output_type": "stream",
          "name": "stdout",
          "text": [
            "Recipe: Pancakes\n",
            "Ingredients: Flour, Milk, Eggs, Sugar\n",
            "Instructions: Mix and fry\n"
          ]
        }
      ]
    },
    {
      "cell_type": "markdown",
      "source": [
        "# Project: Reciepe Viewer App"
      ],
      "metadata": {
        "id": "yBgDN_X2jyVH"
      }
    },
    {
      "cell_type": "markdown",
      "source": [
        "create recipe.txt file and below text:\n",
        "\n",
        "\n",
        "Pancakes\n",
        "\n",
        "Ingredients: Flour, Milk, Eggs, Sugar\n",
        "\n",
        "Intstructions: Mix the ingredients and fry.\n",
        "\n",
        "Waffles\n",
        "\n",
        "Ingredients: Flour, Milk, Eggs, Sugar, Baking Powder\n",
        "\n",
        "Instructions: Mix all the ingredients to make a smooth batter. Pour into a preheated waffle iron and cook until golden brown.\n",
        "\n",
        "Crepes\n",
        "\n",
        "Ingredients: Flour, Milk, Eggs, Sugar, Butter\n",
        "\n",
        "Instructions: Whisk the ingredients into a thin batter. Pour a small amount into a hot non-stick pan, swirl to spread thin, and cook both sides until lightly golden.\n",
        "\n"
      ],
      "metadata": {
        "id": "dRuc_l2vojik"
      }
    },
    {
      "cell_type": "code",
      "source": [
        "# step 1: load recipes from file\n",
        "def load_recipes(file_path):\n",
        "  try:\n",
        "    with open(file_path, \"r\") as file:\n",
        "      content = file.read()\n",
        "      recipes = content.split(\"\\n\\n\")\n",
        "      recipe_dict = {}\n",
        "      for recipe in recipes:\n",
        "        lines = recipe.split(\"\\n\")\n",
        "        if len(lines) >= 3:\n",
        "          name = lines[0].strip()\n",
        "          ingredients = lines[1].replace(\"Ingredients:\", \"\").strip().split(\", \")\n",
        "          instructions = lines[2].replace(\"Instructions:\", \"\").strip()\n",
        "          recipe_dict[name] = {\"ingredients\": ingredients, \"instructions\": instructions}\n",
        "      return recipe_dict\n",
        "  except FileNotFoundError:\n",
        "    return {}\n",
        "\n",
        "# step 2: display recipe menu\n",
        "def show_menu():\n",
        "  print(\"----- Recipe Menu -----\")\n",
        "  print(\"1. View Recipe\")\n",
        "  print(\"2. List Recipes\")\n",
        "  print(\"3. Add Recipe\")\n",
        "  print(\"4. Exit\")\n",
        "\n",
        "# step 3: display the details\n",
        "def view_recipe(recipe_dict):\n",
        "  print(\"----- Recipe Details -----\")\n",
        "  name = input(\"Enter recipe name: \")\n",
        "  if name in recipe_dict:\n",
        "    recipe = recipe_dict[name]\n",
        "    print(f\"Name: {name}\")\n",
        "    print(f\"Ingredients: {', '.join(recipe['ingredients'])}\")\n",
        "    print(f\"Instructions: {recipe['instructions']}\")\n",
        "  else:\n",
        "    print(\"Recipe not found\")\n",
        "\n",
        "# step 4: list recipes\n",
        "def list_recipes(recipe):\n",
        "  print(\"----- List of Recipes -----\")\n",
        "  for name in recipe:\n",
        "    print(name)\n",
        "\n",
        "# step 5: add recipe\n",
        "def add_recipe(recipe):\n",
        "  print(\"----- Add Recipe -----\")\n",
        "  name = input(\"Enter recipe name: \")\n",
        "  if name in recipe:\n",
        "    print(\"Recipe already exists\")\n",
        "  else:\n",
        "    ingredients = input(\"Enter ingredients (comma-separated): \").split(\", \")\n",
        "    instructions = input(\"Enter instructions: \")\n",
        "    recipe[name] = {\"ingredients\": ingredients, \"instructions\": instructions}\n",
        "    print(\"Recipe added successfully\")\n",
        "\n",
        "# step 6: main program\n",
        "recipe_file = \"recipes.txt\"\n",
        "recipe = load_recipes(recipe_file)\n",
        "\n",
        "while True:\n",
        "  show_menu()\n",
        "  choice = input(\"Enter your choice: \")\n",
        "  if choice == \"1\":\n",
        "    view_recipe(recipe)\n",
        "  elif choice == \"2\":\n",
        "    list_recipes(recipe)\n",
        "  elif choice == \"3\":\n",
        "    add_recipe(recipe)\n",
        "  elif choice == \"4\":\n",
        "    print(\"Exiting the program\")\n",
        "    break\n",
        "  else:\n",
        "    print(\"Invalid choice\")\n"
      ],
      "metadata": {
        "colab": {
          "base_uri": "https://localhost:8080/"
        },
        "id": "aMMyh6LDn01p",
        "outputId": "5f0f5d98-9229-4b8f-f8ee-c61dfc234672"
      },
      "execution_count": 9,
      "outputs": [
        {
          "output_type": "stream",
          "name": "stdout",
          "text": [
            "----- Recipe Menu -----\n",
            "1. View Recipe\n",
            "2. List Recipes\n",
            "3. Add Recipe\n",
            "4. Exit\n",
            "Enter your choice: 2\n",
            "----- List of Recipes -----\n",
            "Pancakes\n",
            "Waffles\n",
            "Crepes\n",
            "----- Recipe Menu -----\n",
            "1. View Recipe\n",
            "2. List Recipes\n",
            "3. Add Recipe\n",
            "4. Exit\n",
            "Enter your choice: 1\n",
            "----- Recipe Details -----\n",
            "Enter recipe name: Pancakes\n",
            "Name: Pancakes\n",
            "Ingredients: Flour, Milk, Eggs, Sugar\n",
            "Instructions: Intstructions: Mix the ingredients and fry.\n",
            "----- Recipe Menu -----\n",
            "1. View Recipe\n",
            "2. List Recipes\n",
            "3. Add Recipe\n",
            "4. Exit\n",
            "Enter your choice: 3\n",
            "----- Add Recipe -----\n",
            "Enter recipe name: French Toast\n",
            "Enter ingredients (comma-separated):  Bread, Eggs, Milk, Sugar\n",
            "Enter instructions: : Whisk eggs and milk together. Dip bread slices into the mixture, ensuring they are well coated. Fry in a buttered or oiled pan until golden brown on both sides.\n",
            "Recipe added successfully\n",
            "----- Recipe Menu -----\n",
            "1. View Recipe\n",
            "2. List Recipes\n",
            "3. Add Recipe\n",
            "4. Exit\n",
            "Enter your choice: 1\n",
            "----- Recipe Details -----\n",
            "Enter recipe name: French Toast\n",
            "Name: French Toast\n",
            "Ingredients:  Bread, Eggs, Milk, Sugar\n",
            "Instructions: : Whisk eggs and milk together. Dip bread slices into the mixture, ensuring they are well coated. Fry in a buttered or oiled pan until golden brown on both sides.\n",
            "----- Recipe Menu -----\n",
            "1. View Recipe\n",
            "2. List Recipes\n",
            "3. Add Recipe\n",
            "4. Exit\n",
            "Enter your choice: 2\n",
            "----- List of Recipes -----\n",
            "Pancakes\n",
            "Waffles\n",
            "Crepes\n",
            "French Toast\n",
            "----- Recipe Menu -----\n",
            "1. View Recipe\n",
            "2. List Recipes\n",
            "3. Add Recipe\n",
            "4. Exit\n",
            "Enter your choice: 4\n",
            "Exiting the program\n"
          ]
        }
      ]
    }
  ]
}