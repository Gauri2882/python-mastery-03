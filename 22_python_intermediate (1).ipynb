{
  "nbformat": 4,
  "nbformat_minor": 0,
  "metadata": {
    "colab": {
      "provenance": []
    },
    "kernelspec": {
      "name": "python3",
      "display_name": "Python 3"
    },
    "language_info": {
      "name": "python"
    }
  },
  "cells": [
    {
      "cell_type": "markdown",
      "source": [
        "# Web Scraping\n",
        "*   HTML structure\n",
        "*   using requests to fetch Web pages\n",
        "*   using BeautifulSoup for parsing\n"
      ],
      "metadata": {
        "id": "4Yx7w8AbIHc4"
      }
    },
    {
      "cell_type": "code",
      "source": [
        "!pip install requests\n",
        "!pip install beautifulsoup4"
      ],
      "metadata": {
        "colab": {
          "base_uri": "https://localhost:8080/"
        },
        "id": "ifv9MWZXujJG",
        "outputId": "77c2ad2e-40b6-4339-f207-07f32a7f3993"
      },
      "execution_count": 6,
      "outputs": [
        {
          "output_type": "stream",
          "name": "stdout",
          "text": [
            "Requirement already satisfied: requests in /usr/local/lib/python3.11/dist-packages (2.32.3)\n",
            "Requirement already satisfied: charset-normalizer<4,>=2 in /usr/local/lib/python3.11/dist-packages (from requests) (3.4.2)\n",
            "Requirement already satisfied: idna<4,>=2.5 in /usr/local/lib/python3.11/dist-packages (from requests) (3.10)\n",
            "Requirement already satisfied: urllib3<3,>=1.21.1 in /usr/local/lib/python3.11/dist-packages (from requests) (2.4.0)\n",
            "Requirement already satisfied: certifi>=2017.4.17 in /usr/local/lib/python3.11/dist-packages (from requests) (2025.7.14)\n",
            "Requirement already satisfied: beautifulsoup4 in /usr/local/lib/python3.11/dist-packages (4.13.4)\n",
            "Requirement already satisfied: soupsieve>1.2 in /usr/local/lib/python3.11/dist-packages (from beautifulsoup4) (2.7)\n",
            "Requirement already satisfied: typing-extensions>=4.0.0 in /usr/local/lib/python3.11/dist-packages (from beautifulsoup4) (4.14.1)\n"
          ]
        }
      ]
    },
    {
      "cell_type": "code",
      "source": [
        "# https://en.wikipedia.org/wiki/Python_(programming_language)\n",
        "\n",
        "import requests\n",
        "\n",
        "url = \"https://en.wikipedia.org/wiki/Python_(programming_language)\"\n",
        "response = requests.get(url)\n",
        "\n",
        "if response.status_code == 200:\n",
        "    print(response.text[:500])\n",
        "else:\n",
        "    print(\"Error\")"
      ],
      "metadata": {
        "colab": {
          "base_uri": "https://localhost:8080/"
        },
        "id": "Upi7iho6txMk",
        "outputId": "4d6bf8bb-d906-47ae-9261-a193746038f8"
      },
      "execution_count": 7,
      "outputs": [
        {
          "output_type": "stream",
          "name": "stdout",
          "text": [
            "<!DOCTYPE html>\n",
            "<html class=\"client-nojs vector-feature-language-in-header-enabled vector-feature-language-in-main-page-header-disabled vector-feature-page-tools-pinned-disabled vector-feature-toc-pinned-clientpref-1 vector-feature-main-menu-pinned-disabled vector-feature-limited-width-clientpref-1 vector-feature-limited-width-content-enabled vector-feature-custom-font-size-clientpref-1 vector-feature-appearance-pinned-clientpref-1 vector-feature-night-mode-enabled skin-theme-clientpref-day vect\n"
          ]
        }
      ]
    },
    {
      "cell_type": "code",
      "source": [
        "from bs4 import BeautifulSoup\n",
        "\n",
        "html_content = '<h1>Main title</h1><p>This is title</p><a href = \"https://example.com\">Click here</a>'\n",
        "soup = BeautifulSoup(html_content, 'html.parser')\n",
        "\n",
        "print(soup.h1.text)\n",
        "print(soup.p.text)"
      ],
      "metadata": {
        "colab": {
          "base_uri": "https://localhost:8080/"
        },
        "id": "-lcxvBPZvaBz",
        "outputId": "c9d14391-a962-499b-eef9-6749bfb134b1"
      },
      "execution_count": 10,
      "outputs": [
        {
          "output_type": "stream",
          "name": "stdout",
          "text": [
            "Main title\n",
            "This is title\n"
          ]
        }
      ]
    },
    {
      "cell_type": "markdown",
      "source": [
        "# Project: Wikipedia Article Scraper"
      ],
      "metadata": {
        "id": "ZLNXj2Whttjc"
      }
    },
    {
      "cell_type": "code",
      "source": [
        "import requests\n",
        "from bs4 import BeautifulSoup\n",
        "\n",
        "# step 1: get wikipedia article URL\n",
        "def get_wikipedia(topic):\n",
        "  url = f\"https://en.wikipedia.org/wiki/{topic.replace(' ', '_')}\"\n",
        "  response = requests.get(url)\n",
        "\n",
        "  if response.status_code == 200:\n",
        "    return response.text\n",
        "  else:\n",
        "    print(f\"failed to retrieve data. status code: {response.status_code}. check the topic and try again\")\n",
        "    return None\n",
        "\n",
        "# step 2: extract article title\n",
        "def get_article_title(soup):\n",
        "  return soup.find('h1').text\n",
        "\n",
        "# step 3: extract article summary\n",
        "def get_article_summary(soup):\n",
        "  paragraphs = soup.find_all('p')\n",
        "  for para in paragraphs:\n",
        "    if para.text.strip():\n",
        "      return para.text.strip()\n",
        "  return \"No sumamry found\"\n",
        "\n",
        "# step 4: extract headings\n",
        "def get_event_datetime(soup):\n",
        "  headings = [heading.text.strip() for heading in soup.find_all(['h2', 'h3', 'h4'])]\n",
        "  return headings\n",
        "\n",
        "# step 5: extract related links\n",
        "def get_related_links(soup):\n",
        "  links = []\n",
        "  for a_tag in soup.find_all('a', href = True):\n",
        "    href = a_tag['href']\n",
        "    if href.startswith('/wiki/') and \":\" not in href:\n",
        "      links.append(f\"https://en.wikipedia.org{a_tag['href']}\")\n",
        "  return list(set(links))[:5]\n",
        "\n",
        "# step 6: main program\n",
        "def main():\n",
        "  topic = input(\"Enter a topic: \").strip()\n",
        "  html_content = get_wikipedia(topic)\n",
        "  if html_content:\n",
        "    soup = BeautifulSoup(html_content, 'html.parser')\n",
        "    title = get_article_title(soup)\n",
        "    summary = get_article_summary(soup)\n",
        "    headings = get_event_datetime(soup)\n",
        "    related_links = get_related_links(soup)\n",
        "\n",
        "    print(\"\\n---- Wikipedia Article Details ----\")\n",
        "    print(f\"\\nTitle: {title}\")\n",
        "    print(f\"\\nSummary: {summary}\")\n",
        "    print(\"\\nHeadings:\")\n",
        "    for heading in headings[:5]:\n",
        "      print(f\"  - {heading}\")\n",
        "\n",
        "    print(\"\\nRelated Links:\")\n",
        "    for link in related_links:\n",
        "      print(link)\n",
        "\n",
        "if __name__ == \"__main__\":\n",
        "  main()\n"
      ],
      "metadata": {
        "colab": {
          "base_uri": "https://localhost:8080/"
        },
        "id": "FZaoeEwswVmo",
        "outputId": "af64387e-398c-4585-ba99-938e46fe939d"
      },
      "execution_count": 27,
      "outputs": [
        {
          "output_type": "stream",
          "name": "stdout",
          "text": [
            "Enter a topic: Porsche\n",
            "\n",
            "---- Wikipedia Article Details ----\n",
            "\n",
            "Title: Porsche\n",
            "\n",
            "Summary: Dr. Ing. h.c. F. Porsche AG, usually shortened to Porsche (German pronunciation: [ˈpɔʁʃə] ⓘ; see below), is a German automobile manufacturer specializing in luxury, high-performance sports cars, SUVs and sedans, headquartered in Stuttgart, Baden-Württemberg, Germany. The company is owned by Volkswagen AG, a controlling stake of which is owned by Porsche Automobil Holding SE, usually shortened to Porsche SE. Porsche's current lineup includes the 718, 911, Panamera, Macan, Cayenne and Taycan.\n",
            "\n",
            "Headings:\n",
            "  - Contents\n",
            "  - History\n",
            "  - Origin\n",
            "  - Company logo\n",
            "  - Developments\n",
            "\n",
            "Related Links:\n",
            "https://en.wikipedia.org/wiki/Bundesland_(Germany)\n",
            "https://en.wikipedia.org/wiki/Quattro_(four-wheel-drive_system)\n",
            "https://en.wikipedia.org/wiki/Volkswagen_Group_of_America\n",
            "https://en.wikipedia.org/wiki/Ducati_Motor_Holding\n",
            "https://en.wikipedia.org/wiki/VW_Electronics_Research_Laboratory\n"
          ]
        }
      ]
    }
  ]
}