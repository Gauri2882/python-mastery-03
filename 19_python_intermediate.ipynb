{
  "nbformat": 4,
  "nbformat_minor": 0,
  "metadata": {
    "colab": {
      "provenance": []
    },
    "kernelspec": {
      "name": "python3",
      "display_name": "Python 3"
    },
    "language_info": {
      "name": "python"
    }
  },
  "cells": [
    {
      "cell_type": "markdown",
      "source": [
        "# JSON Files\n",
        "\n",
        "*   Reading JSON data\n",
        "*   Writing to JSON data\n",
        "*   Modifying JSON data\n"
      ],
      "metadata": {
        "id": "4Yx7w8AbIHc4"
      }
    },
    {
      "cell_type": "markdown",
      "source": [
        "create json_data file and add below lines:\n",
        "\n",
        "    [{'task': 'Learn python JSON', 'status': 'Incomplete'}, {'task': 'Build to-do app', 'status': 'Complete'}]\n"
      ],
      "metadata": {
        "id": "5fqxVtcQBRtm"
      }
    },
    {
      "cell_type": "code",
      "source": [
        "import json\n",
        "\n",
        "with open('json_data', 'r') as f:\n",
        "  data = json.load(f)\n",
        "  print(data)"
      ],
      "metadata": {
        "colab": {
          "base_uri": "https://localhost:8080/"
        },
        "id": "RbNWScIh_RpQ",
        "outputId": "d00e7ded-8a33-4d50-c8ad-0665d27c5d86"
      },
      "execution_count": 24,
      "outputs": [
        {
          "output_type": "stream",
          "name": "stdout",
          "text": [
            "[{'task': 'Learn python JSON', 'status': 'Incomplete'}, {'task': 'Build to-do app', 'status': 'Complete'}]\n"
          ]
        }
      ]
    },
    {
      "cell_type": "code",
      "source": [
        "import json\n",
        "\n",
        "tasks = [\n",
        "    {\"task\": \"Complete Project\", \"status\": \"Incomplete\"}\n",
        "]\n",
        "\n",
        "with open('tasks.json', 'w') as f:\n",
        "  json.dump(tasks, f, indent=4)"
      ],
      "metadata": {
        "id": "b6N0Uc3DAWDk"
      },
      "execution_count": 25,
      "outputs": []
    },
    {
      "cell_type": "code",
      "source": [
        "import json\n",
        "\n",
        "with open('tasks.json', 'r') as f:\n",
        "  data = json.load(f)\n",
        "\n",
        "tasks.append({\"task\": \"Buy Groceries\", \"status\": \"Incomplete\"})\n",
        "\n",
        "with open('tasks.json', 'w') as f:\n",
        "  json.dump(tasks, f, indent=4)"
      ],
      "metadata": {
        "id": "tlAiy5P3AxO5"
      },
      "execution_count": 26,
      "outputs": []
    },
    {
      "cell_type": "markdown",
      "source": [
        "output looks like this:\n",
        "\n",
        "    [\n",
        "        {\n",
        "            \"task\": \"Complete Project\",\n",
        "            \"status\": \"Incomplete\"\n",
        "        },\n",
        "        {\n",
        "            \"task\": \"Buy Groceries\",\n",
        "            \"status\": \"Incomplete\"\n",
        "        }\n",
        "    ]"
      ],
      "metadata": {
        "id": "sjk1R-l-BJzV"
      }
    },
    {
      "cell_type": "markdown",
      "source": [
        "# Project: Mini To-Do App"
      ],
      "metadata": {
        "id": "0TKPj-KY_SXV"
      }
    },
    {
      "cell_type": "code",
      "source": [
        "import json\n",
        "import os\n",
        "\n",
        "# file for storing tasks\n",
        "TASKS_FILE = 'my_tasks.json'\n",
        "\n",
        "# ensure the tasks file exist\n",
        "if not os.path.exists(TASKS_FILE):\n",
        "  with open(TASKS_FILE, 'w') as f:\n",
        "    json.dump([], f)\n",
        "\n",
        "# step 1: load tasks from JSON\n",
        "def load_tasks():\n",
        "  with open(TASKS_FILE, 'r') as f:\n",
        "    return json.load(f)\n",
        "\n",
        "# step 2: save tasks to JSON\n",
        "def save_tasks(tasks):\n",
        "  with open(TASKS_FILE, 'w') as f:\n",
        "    json.dump(tasks, f, indent = 2)\n",
        "\n",
        "# step 3: add a new task\n",
        "def add_task():\n",
        "  task_name = input(\"Enter the task name: \").strip()\n",
        "  tasks = load_tasks()\n",
        "  tasks.append({\"task\": task_name, \"status\": \"Incomplete\"})\n",
        "  save_tasks(tasks)\n",
        "  print(f\"Task {task_name} added succesfully.\")\n",
        "\n",
        "# step 4: view all tasks\n",
        "def view_tasks():\n",
        "  tasks = load_tasks()\n",
        "  if tasks:\n",
        "    print(\"---- Tasks ----\")\n",
        "    for idx, task in enumerate(tasks, start=1):\n",
        "      print(f\"{idx}. {task['task']} - {task['status']}\")\n",
        "  else:\n",
        "    print(\"No tasks found.\")\n",
        "\n",
        "# step 5: update task status\n",
        "def update_status():\n",
        "  tasks = load_tasks()\n",
        "  view_tasks()\n",
        "  try:\n",
        "    task_index = int(input(\"Enter the task number to update: \")) - 1\n",
        "    if 0 <= task_index < len(tasks):\n",
        "      new_status = input(\"Enter the new status (Complete/Incomplete): \").strip()\n",
        "      tasks[task_index]['status'] = new_status\n",
        "      save_tasks(tasks)\n",
        "      print(\"Task status updated successfully.\")\n",
        "    else:\n",
        "      print(\"Invalid task number.\")\n",
        "  except ValueError:\n",
        "    print(\"Invalid input. Please enter a valid task number.\")\n",
        "\n",
        "# step 6: delete a task\n",
        "def delete_tasks():\n",
        "  tasks = load_tasks()\n",
        "  view_tasks()\n",
        "  try:\n",
        "    task_index = int(input(\"Enter the task number to delete: \")) - 1\n",
        "    if 0 <= task_index < len(tasks):\n",
        "      deleted_task = tasks.pop(task_index)\n",
        "      save_tasks(tasks)\n",
        "      print(f\"Task '{deleted_task['task']}' deleted successfully.\")\n",
        "    else:\n",
        "      print(\"Invalid task number.\")\n",
        "  except ValueError:\n",
        "    print(\"Invalid input. Please enter a valid task number.\")\n",
        "\n",
        "# step 7: display menu\n",
        "def display_menu():\n",
        "  print(\"\\n---- To-Do Menu ----\")\n",
        "  print(\"1. Add Task\")\n",
        "  print(\"2. View Tasks\")\n",
        "  print(\"3. Update Task Status\")\n",
        "  print(\"4. Delete Task\")\n",
        "  print(\"5. Quit\")\n",
        "\n",
        "# step 8: main program loop\n",
        "while True:\n",
        "  display_menu()\n",
        "  choice = input(\"Enter your choice (1-5): \").strip()\n",
        "  if choice == '1':\n",
        "    add_task()\n",
        "  elif choice == '2':\n",
        "    view_tasks()\n",
        "  elif choice == '3':\n",
        "    update_status()\n",
        "  elif choice == '4':\n",
        "    delete_tasks()\n",
        "  elif choice == '5':\n",
        "    print(\"Goodbye!\")\n",
        "    break\n",
        "  else:\n",
        "    print(\"Invalid choice. Please select a valid option (1-5).\")"
      ],
      "metadata": {
        "colab": {
          "base_uri": "https://localhost:8080/"
        },
        "id": "9dcgPd3dBcme",
        "outputId": "406b8515-54d6-4ed2-9127-535f91bfe9c9"
      },
      "execution_count": 29,
      "outputs": [
        {
          "output_type": "stream",
          "name": "stdout",
          "text": [
            "\n",
            "---- To-Do Menu ----\n",
            "1. Add Task\n",
            "2. View Tasks\n",
            "3. Update Task Status\n",
            "4. Delete Task\n",
            "5. Quit\n",
            "Enter your choice (1-5): 2\n",
            "No tasks found.\n",
            "\n",
            "---- To-Do Menu ----\n",
            "1. Add Task\n",
            "2. View Tasks\n",
            "3. Update Task Status\n",
            "4. Delete Task\n",
            "5. Quit\n",
            "Enter your choice (1-5): 1\n",
            "Enter the task name: Js Programming\n",
            "Task Js Programming added succesfully.\n",
            "\n",
            "---- To-Do Menu ----\n",
            "1. Add Task\n",
            "2. View Tasks\n",
            "3. Update Task Status\n",
            "4. Delete Task\n",
            "5. Quit\n",
            "Enter your choice (1-5): 2\n",
            "---- Tasks ----\n",
            "1. Js Programming - Incomplete\n",
            "\n",
            "---- To-Do Menu ----\n",
            "1. Add Task\n",
            "2. View Tasks\n",
            "3. Update Task Status\n",
            "4. Delete Task\n",
            "5. Quit\n",
            "Enter your choice (1-5): 1\n",
            "Enter the task name: Typescript Programming\n",
            "Task Typescript Programming added succesfully.\n",
            "\n",
            "---- To-Do Menu ----\n",
            "1. Add Task\n",
            "2. View Tasks\n",
            "3. Update Task Status\n",
            "4. Delete Task\n",
            "5. Quit\n",
            "Enter your choice (1-5): 1\n",
            "Enter the task name: Java Programming\n",
            "Task Java Programming added succesfully.\n",
            "\n",
            "---- To-Do Menu ----\n",
            "1. Add Task\n",
            "2. View Tasks\n",
            "3. Update Task Status\n",
            "4. Delete Task\n",
            "5. Quit\n",
            "Enter your choice (1-5): 2\n",
            "---- Tasks ----\n",
            "1. Js Programming - Incomplete\n",
            "2. Typescript Programming - Incomplete\n",
            "3. Java Programming - Incomplete\n",
            "\n",
            "---- To-Do Menu ----\n",
            "1. Add Task\n",
            "2. View Tasks\n",
            "3. Update Task Status\n",
            "4. Delete Task\n",
            "5. Quit\n",
            "Enter your choice (1-5): 3\n",
            "---- Tasks ----\n",
            "1. Js Programming - Incomplete\n",
            "2. Typescript Programming - Incomplete\n",
            "3. Java Programming - Incomplete\n",
            "Enter the task number to update: 2\n",
            "Enter the new status (Complete/Incomplete): Complete\n",
            "Task status updated successfully.\n",
            "\n",
            "---- To-Do Menu ----\n",
            "1. Add Task\n",
            "2. View Tasks\n",
            "3. Update Task Status\n",
            "4. Delete Task\n",
            "5. Quit\n",
            "Enter your choice (1-5): 2\n",
            "---- Tasks ----\n",
            "1. Js Programming - Incomplete\n",
            "2. Typescript Programming - Complete\n",
            "3. Java Programming - Incomplete\n",
            "\n",
            "---- To-Do Menu ----\n",
            "1. Add Task\n",
            "2. View Tasks\n",
            "3. Update Task Status\n",
            "4. Delete Task\n",
            "5. Quit\n",
            "Enter your choice (1-5): 4\n",
            "---- Tasks ----\n",
            "1. Js Programming - Incomplete\n",
            "2. Typescript Programming - Complete\n",
            "3. Java Programming - Incomplete\n",
            "Enter the task number to delete: 3\n",
            "Task 'Java Programming' deleted successfully.\n",
            "\n",
            "---- To-Do Menu ----\n",
            "1. Add Task\n",
            "2. View Tasks\n",
            "3. Update Task Status\n",
            "4. Delete Task\n",
            "5. Quit\n",
            "Enter your choice (1-5): 2\n",
            "---- Tasks ----\n",
            "1. Js Programming - Incomplete\n",
            "2. Typescript Programming - Complete\n",
            "\n",
            "---- To-Do Menu ----\n",
            "1. Add Task\n",
            "2. View Tasks\n",
            "3. Update Task Status\n",
            "4. Delete Task\n",
            "5. Quit\n",
            "Enter your choice (1-5): 5\n",
            "Goodbye!\n"
          ]
        }
      ]
    }
  ]
}