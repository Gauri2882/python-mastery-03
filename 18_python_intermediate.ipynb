{
  "nbformat": 4,
  "nbformat_minor": 0,
  "metadata": {
    "colab": {
      "provenance": []
    },
    "kernelspec": {
      "name": "python3",
      "display_name": "Python 3"
    },
    "language_info": {
      "name": "python"
    }
  },
  "cells": [
    {
      "cell_type": "markdown",
      "source": [
        "# CSV Files\n",
        "\n",
        "*   Reading CSV files\n",
        "*   Writing to CSV files\n",
        "*   Using csv module\n"
      ],
      "metadata": {
        "id": "4Yx7w8AbIHc4"
      }
    },
    {
      "cell_type": "markdown",
      "source": [
        "create firstly students.txt file and paste below data as it is:\n",
        "\n",
        "    Name,Math,Science,English\n",
        "    Alice,85,90,88\n",
        "    Bob,92,88,95\n",
        "    Charlie,78,92,85\n",
        "\n",
        "And then change the extension to .csv from .txt of file"
      ],
      "metadata": {
        "id": "pFpRdqJT5sOg"
      }
    },
    {
      "cell_type": "code",
      "source": [
        "# Reading CSV files\n",
        "\n",
        "import csv\n",
        "\n",
        "with open('students.csv', 'r') as file:\n",
        "    reader = csv.reader(file)\n",
        "    for row in reader:\n",
        "        print(row)"
      ],
      "metadata": {
        "colab": {
          "base_uri": "https://localhost:8080/"
        },
        "id": "ahhUbhLd42Yp",
        "outputId": "dc07b100-f4bd-4a48-8dd0-7c2de1bb6b7c"
      },
      "execution_count": 18,
      "outputs": [
        {
          "output_type": "stream",
          "name": "stdout",
          "text": [
            "['Name', 'Math', 'Science', 'English']\n",
            "['Alice', '85', '90', '88']\n",
            "['Bob', '92', '88', '95']\n",
            "['Charlie', '78', '92', '85']\n"
          ]
        }
      ]
    },
    {
      "cell_type": "code",
      "source": [
        "import csv\n",
        "\n",
        "with open('students.csv', 'r') as file:\n",
        "    reader = csv.DictReader(file)\n",
        "    for row in reader:\n",
        "        print(row)"
      ],
      "metadata": {
        "colab": {
          "base_uri": "https://localhost:8080/"
        },
        "id": "HTDBs-Qv6PZL",
        "outputId": "3102986a-b92c-493f-e760-5b0bc86b6437"
      },
      "execution_count": 20,
      "outputs": [
        {
          "output_type": "stream",
          "name": "stdout",
          "text": [
            "{'Name': 'Alice', 'Math': '85', 'Science': '90', 'English': '88'}\n",
            "{'Name': 'Bob', 'Math': '92', 'Science': '88', 'English': '95'}\n",
            "{'Name': 'Charlie', 'Math': '78', 'Science': '92', 'English': '85'}\n"
          ]
        }
      ]
    },
    {
      "cell_type": "code",
      "source": [
        "# Writing to CSV files\n",
        "import csv\n",
        "\n",
        "with open('new_students.csv', 'w', newline='') as file:\n",
        "    writer = csv.writer(file)\n",
        "    writer.writerow(['Name', 'Math', 'Science', 'English'])\n",
        "    writer.writerow(['Daisy', 85, 93, 78])"
      ],
      "metadata": {
        "id": "xZWwKUgo6Xhz"
      },
      "execution_count": 21,
      "outputs": []
    },
    {
      "cell_type": "code",
      "source": [
        "# Writing to CSV files\n",
        "import csv\n",
        "\n",
        "with open('new_students.csv', 'w', newline='') as file:\n",
        "    writer = csv.DictWriter(file, fieldnames= ['Name', 'Math', 'Science', 'English'])\n",
        "    writer.writeheader()\n",
        "    writer.writerow({'Name': 'Daisy', 'Math': 85, 'Science': 93, 'English': 78})"
      ],
      "metadata": {
        "id": "lVUnNgUp7OhY"
      },
      "execution_count": 22,
      "outputs": []
    },
    {
      "cell_type": "markdown",
      "source": [
        "# Project: Student Report Generator"
      ],
      "metadata": {
        "id": "xhis336y4xyp"
      }
    },
    {
      "cell_type": "code",
      "source": [
        "import csv\n",
        "\n",
        "# step 1: read student data and calculate averages\n",
        "def process_student_data(input_file, output_file):\n",
        "    try:\n",
        "        with open(input_file, 'r') as infile:\n",
        "          reader = csv.DictReader(infile)\n",
        "          student_reports = []\n",
        "\n",
        "          for row in reader:\n",
        "            student_name = row['Name']\n",
        "            math_score = int(row['Math'])\n",
        "            science_score = int(row['Science'])\n",
        "            english_score = int(row['English'])\n",
        "            average_score = round((math_score + science_score + english_score) / 3, 2)\n",
        "            status = \"Pass\" if average_score >= 60 else \"Fail\"\n",
        "\n",
        "            student_reports.append({\n",
        "                'Name': student_name,\n",
        "                'Math': math_score,\n",
        "                'Science': science_score,\n",
        "                'English': english_score,\n",
        "                'Average': average_score,\n",
        "                'Status': status\n",
        "            })\n",
        "\n",
        "          # step 2: Write the process data to a new csv\n",
        "          with open(output_file, 'w', newline='') as outfile:\n",
        "            fieldnames = ['Name', 'Math', 'Science', 'English', 'Average', 'Status']\n",
        "            writer = csv.DictWriter(outfile, fieldnames=fieldnames)\n",
        "            writer.writeheader()\n",
        "            writer.writerows(student_reports)\n",
        "\n",
        "          print(f\"Student report generated in {output_file} successfully\")\n",
        "\n",
        "    except FileNotFoundError:\n",
        "        print(f\"File '{input_file}' not found.\")\n",
        "    except KeyError:\n",
        "        print(\"Invalid column names in the input file.\")\n",
        "    except Exception as e:\n",
        "        print(f\"An error occurred: {e}\")\n",
        "\n",
        "# Main Program\n",
        "input_file = 'students.csv'\n",
        "output_file = 'student_report.csv'\n",
        "process_student_data(input_file, output_file)"
      ],
      "metadata": {
        "colab": {
          "base_uri": "https://localhost:8080/"
        },
        "id": "TTvhk2sB4wgD",
        "outputId": "4a3dd6fc-f5a3-4273-eaf4-7501f8e588d9"
      },
      "execution_count": 23,
      "outputs": [
        {
          "output_type": "stream",
          "name": "stdout",
          "text": [
            "Student report generated in student_report.csv successfully\n"
          ]
        }
      ]
    },
    {
      "cell_type": "markdown",
      "source": [
        "input_file:\n",
        "\n",
        "|Name|Math|Science|English|\n",
        "|---|---|---|---|\n",
        "|Alice|85|90|88|\n",
        "|Bob|92|88|95|\n",
        "|Charlie|78|92|85|\n",
        "\n",
        "\n",
        "\n",
        "output_file:\n",
        "\n",
        "|Name|Math|Science|English|Average|Status|\n",
        "|---|---|---|---|---|---|\n",
        "|Alice|85|90|88|87\\.67|Pass|\n",
        "|Bob|92|88|95|91\\.67|Pass|\n",
        "|Charlie|78|92|85|85\\.0|Pass|"
      ],
      "metadata": {
        "id": "a2sMoIbe-NDo"
      }
    }
  ]
}